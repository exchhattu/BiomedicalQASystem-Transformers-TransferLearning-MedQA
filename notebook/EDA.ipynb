{
 "cells": [
  {
   "cell_type": "markdown",
   "metadata": {},
   "source": [
    "# Exploratory Data Analysis (EDA )\n",
    "\n",
    "Aims: \n",
    "* Get a notion about a distribution of dataset.\n",
    "* Dataset was analyzed in token level."
   ]
  },
  {
   "cell_type": "code",
   "execution_count": 1,
   "metadata": {},
   "outputs": [],
   "source": [
    "import pandas as pd\n",
    "import numpy as np\n",
    "from scipy import stats "
   ]
  },
  {
   "cell_type": "code",
   "execution_count": 2,
   "metadata": {},
   "outputs": [],
   "source": [
    "df_bioasq7b = pd.read_csv(\"./bioasq7b_eda.data\")"
   ]
  },
  {
   "cell_type": "code",
   "execution_count": 3,
   "metadata": {},
   "outputs": [
    {
     "data": {
      "text/html": [
       "<div>\n",
       "<style scoped>\n",
       "    .dataframe tbody tr th:only-of-type {\n",
       "        vertical-align: middle;\n",
       "    }\n",
       "\n",
       "    .dataframe tbody tr th {\n",
       "        vertical-align: top;\n",
       "    }\n",
       "\n",
       "    .dataframe thead th {\n",
       "        text-align: right;\n",
       "    }\n",
       "</style>\n",
       "<table border=\"1\" class=\"dataframe\">\n",
       "  <thead>\n",
       "    <tr style=\"text-align: right;\">\n",
       "      <th></th>\n",
       "      <th>question_len</th>\n",
       "      <th>num_word_in_question</th>\n",
       "      <th>answer_len</th>\n",
       "      <th>num_word_in_answer</th>\n",
       "      <th>num_word_in_token</th>\n",
       "    </tr>\n",
       "  </thead>\n",
       "  <tbody>\n",
       "    <tr>\n",
       "      <th>count</th>\n",
       "      <td>40888.000000</td>\n",
       "      <td>40888.000000</td>\n",
       "      <td>40888.000000</td>\n",
       "      <td>40888.000000</td>\n",
       "      <td>40888.000000</td>\n",
       "    </tr>\n",
       "    <tr>\n",
       "      <th>mean</th>\n",
       "      <td>64.147794</td>\n",
       "      <td>15.866391</td>\n",
       "      <td>11.172153</td>\n",
       "      <td>4.415476</td>\n",
       "      <td>107.352328</td>\n",
       "    </tr>\n",
       "    <tr>\n",
       "      <th>std</th>\n",
       "      <td>23.658124</td>\n",
       "      <td>6.237572</td>\n",
       "      <td>11.457345</td>\n",
       "      <td>3.184359</td>\n",
       "      <td>100.685599</td>\n",
       "    </tr>\n",
       "    <tr>\n",
       "      <th>min</th>\n",
       "      <td>13.000000</td>\n",
       "      <td>4.000000</td>\n",
       "      <td>1.000000</td>\n",
       "      <td>1.000000</td>\n",
       "      <td>1.000000</td>\n",
       "    </tr>\n",
       "    <tr>\n",
       "      <th>25%</th>\n",
       "      <td>48.000000</td>\n",
       "      <td>12.000000</td>\n",
       "      <td>4.000000</td>\n",
       "      <td>3.000000</td>\n",
       "      <td>27.000000</td>\n",
       "    </tr>\n",
       "    <tr>\n",
       "      <th>50%</th>\n",
       "      <td>61.000000</td>\n",
       "      <td>15.000000</td>\n",
       "      <td>8.000000</td>\n",
       "      <td>4.000000</td>\n",
       "      <td>66.000000</td>\n",
       "    </tr>\n",
       "    <tr>\n",
       "      <th>75%</th>\n",
       "      <td>77.000000</td>\n",
       "      <td>19.000000</td>\n",
       "      <td>15.000000</td>\n",
       "      <td>5.000000</td>\n",
       "      <td>178.000000</td>\n",
       "    </tr>\n",
       "    <tr>\n",
       "      <th>max</th>\n",
       "      <td>189.000000</td>\n",
       "      <td>54.000000</td>\n",
       "      <td>282.000000</td>\n",
       "      <td>82.000000</td>\n",
       "      <td>1500.000000</td>\n",
       "    </tr>\n",
       "  </tbody>\n",
       "</table>\n",
       "</div>"
      ],
      "text/plain": [
       "       question_len  num_word_in_question    answer_len  num_word_in_answer  \\\n",
       "count  40888.000000          40888.000000  40888.000000        40888.000000   \n",
       "mean      64.147794             15.866391     11.172153            4.415476   \n",
       "std       23.658124              6.237572     11.457345            3.184359   \n",
       "min       13.000000              4.000000      1.000000            1.000000   \n",
       "25%       48.000000             12.000000      4.000000            3.000000   \n",
       "50%       61.000000             15.000000      8.000000            4.000000   \n",
       "75%       77.000000             19.000000     15.000000            5.000000   \n",
       "max      189.000000             54.000000    282.000000           82.000000   \n",
       "\n",
       "       num_word_in_token  \n",
       "count       40888.000000  \n",
       "mean          107.352328  \n",
       "std           100.685599  \n",
       "min             1.000000  \n",
       "25%            27.000000  \n",
       "50%            66.000000  \n",
       "75%           178.000000  \n",
       "max          1500.000000  "
      ]
     },
     "execution_count": 3,
     "metadata": {},
     "output_type": "execute_result"
    }
   ],
   "source": [
    "df_bioasq7b.describe()"
   ]
  },
  {
   "cell_type": "code",
   "execution_count": 4,
   "metadata": {},
   "outputs": [
    {
     "data": {
      "text/html": [
       "<div>\n",
       "<style scoped>\n",
       "    .dataframe tbody tr th:only-of-type {\n",
       "        vertical-align: middle;\n",
       "    }\n",
       "\n",
       "    .dataframe tbody tr th {\n",
       "        vertical-align: top;\n",
       "    }\n",
       "\n",
       "    .dataframe thead th {\n",
       "        text-align: right;\n",
       "    }\n",
       "</style>\n",
       "<table border=\"1\" class=\"dataframe\">\n",
       "  <thead>\n",
       "    <tr style=\"text-align: right;\">\n",
       "      <th></th>\n",
       "      <th>id</th>\n",
       "      <th>question_len</th>\n",
       "      <th>num_word_in_question</th>\n",
       "      <th>answer_len</th>\n",
       "      <th>num_word_in_answer</th>\n",
       "      <th>num_word_in_token</th>\n",
       "    </tr>\n",
       "  </thead>\n",
       "  <tbody>\n",
       "    <tr>\n",
       "      <th>0</th>\n",
       "      <td>56bc751eac7ad10019000013_001</td>\n",
       "      <td>46</td>\n",
       "      <td>14</td>\n",
       "      <td>14</td>\n",
       "      <td>5</td>\n",
       "      <td>119</td>\n",
       "    </tr>\n",
       "    <tr>\n",
       "      <th>1</th>\n",
       "      <td>56bc751eac7ad10019000013_002</td>\n",
       "      <td>46</td>\n",
       "      <td>14</td>\n",
       "      <td>14</td>\n",
       "      <td>5</td>\n",
       "      <td>119</td>\n",
       "    </tr>\n",
       "  </tbody>\n",
       "</table>\n",
       "</div>"
      ],
      "text/plain": [
       "                             id  question_len  num_word_in_question  \\\n",
       "0  56bc751eac7ad10019000013_001            46                    14   \n",
       "1  56bc751eac7ad10019000013_002            46                    14   \n",
       "\n",
       "   answer_len  num_word_in_answer  num_word_in_token  \n",
       "0          14                   5                119  \n",
       "1          14                   5                119  "
      ]
     },
     "execution_count": 4,
     "metadata": {},
     "output_type": "execute_result"
    }
   ],
   "source": [
    "df_bioasq7b.head(2)"
   ]
  },
  {
   "cell_type": "code",
   "execution_count": 5,
   "metadata": {},
   "outputs": [],
   "source": [
    "import matplotlib\n",
    "import matplotlib.mlab as mlab\n",
    "import matplotlib.pyplot as plt\n",
    "import matplotlib.colors as colors\n",
    "\n",
    "def plot_normal_dist(num_questions, ub=500, out_f_name=\"dist.pdf\"):\n",
    "    num_questions.sort()\n",
    "    f_a_mean  = np.mean(num_questions)\n",
    "    f_a_stdev = np.std(num_questions)\n",
    "    a_a_fits = stats.norm.pdf(num_questions, f_a_mean, f_a_stdev)\n",
    "    \n",
    "    # plot\n",
    "    fig, splot = plt.subplots(figsize=(5, 4))\n",
    "    font      = {'family':'arial', 'style':'normal', 'size':16}\n",
    "    axis_font = {'family':'arial', 'style':'normal', 'size':16}\n",
    "    plt.rc('font', **font)\n",
    "    \n",
    "    \n",
    "    splot.plot(num_questions, a_a_fits, linewidth=2.0, alpha =1.0, color = \"g\") # , label=st_label)\n",
    "    \n",
    "    ts_bins = np.arange(0, ub, 1)\n",
    "    fo_factor  = 0.4\n",
    "    fo_width   = 1.5\n",
    "    ts_den, bins = np.histogram(num_questions, bins=ts_bins, density=True)\n",
    "    ts_xvals = ts_bins[:len(ts_den)] - fo_factor/2. + 2/2.0*fo_factor\n",
    "    splot.bar(ts_xvals, ts_den, width=fo_factor/2., color=\"r\", edgecolor=\"r\", \n",
    "              label=\"\", align=\"edge\", alpha=0.1)\n",
    "    \n",
    "    splot.set_xlabel(\"Number of words\", labelpad=8)\n",
    "    splot.set_ylabel('Normalized frequency', labelpad=8)\n",
    "    plt.tight_layout()\n",
    "    plt.savefig(out_f_name, format=\"pdf\", dpi=600)"
   ]
  },
  {
   "cell_type": "markdown",
   "metadata": {},
   "source": [
    "### Distribution of token in question, answer, and context\n",
    "\n",
    "Here, the number of token is analyzed for each group independently. Based on analysis, question (mean=15 and standard deviation=6) and answer (mean=4 and standard deviation=3) are evenly distributed following a normal distribution. However, context or paragraph has skewed distribution. The mean and median are 107 and 66 respectively. It is interesting some paragraphs contains a token around 1500. They might be outlier. "
   ]
  },
  {
   "cell_type": "code",
   "execution_count": 6,
   "metadata": {},
   "outputs": [
    {
     "data": {
      "image/png": "[encoded data removed]",
      "text/plain": [
       "<Figure size 360x288 with 1 Axes>"
      ]
     },
     "metadata": {
      "needs_background": "light"
     },
     "output_type": "display_data"
    }
   ],
   "source": [
    "plot_normal_dist(list(df_bioasq7b[\"num_word_in_question\"]), 50, \"word_dist.pdf\")"
   ]
  },
  {
   "cell_type": "code",
   "execution_count": 7,
   "metadata": {},
   "outputs": [
    {
     "data": {
      "image/png": "[encoded data removed]",
      "text/plain": [
       "<Figure size 360x288 with 1 Axes>"
      ]
     },
     "metadata": {
      "needs_background": "light"
     },
     "output_type": "display_data"
    }
   ],
   "source": [
    "plot_normal_dist(list(df_bioasq7b[\"num_word_in_answer\"]), 10, \"answer_dist.pdf\")"
   ]
  },
  {
   "cell_type": "code",
   "execution_count": 8,
   "metadata": {},
   "outputs": [
    {
     "data": {
      "image/png": "[encoded data removed]",
      "text/plain": [
       "<Figure size 360x288 with 1 Axes>"
      ]
     },
     "metadata": {
      "needs_background": "light"
     },
     "output_type": "display_data"
    }
   ],
   "source": [
    "plot_normal_dist(list(df_bioasq7b[\"num_word_in_token\"]), 300, \"token_dist.pdf\")"
   ]
  },
  {
   "cell_type": "code",
   "execution_count": null,
   "metadata": {},
   "outputs": [],
   "source": []
  }
 ],
 "metadata": {
  "kernelspec": {
   "display_name": "Python 3",
   "language": "python",
   "name": "python3"
  },
  "language_info": {
   "codemirror_mode": {
    "name": "ipython",
    "version": 3
   },
   "file_extension": ".py",
   "mimetype": "text/x-python",
   "name": "python",
   "nbconvert_exporter": "python",
   "pygments_lexer": "ipython3",
   "version": "3.7.5"
  }
 },
 "nbformat": 4,
 "nbformat_minor": 2
}
